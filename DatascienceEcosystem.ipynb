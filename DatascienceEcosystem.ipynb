{
 "cells": [
  {
   "cell_type": "markdown",
   "id": "b763a053-292c-44d9-8ec5-b46f331c2a13",
   "metadata": {},
   "source": [
    "# Data Science Tools and Ecosystem "
   ]
  },
  {
   "cell_type": "markdown",
   "id": "71e35855-1aba-45f8-920a-39fd39b38d91",
   "metadata": {},
   "source": [
    "This notebook gives an overview of the data science environment and tools."
   ]
  },
  {
   "cell_type": "markdown",
   "id": "0d08e9e4-742e-4ecb-8818-c23d47c74a1f",
   "metadata": {},
   "source": [
    "Some of themost significant concepts in the course "
   ]
  },
  {
   "cell_type": "markdown",
   "id": "7ad0c53f-ac9a-4ef7-b235-31aefe17f75f",
   "metadata": {},
   "source": [
    "**Objectives:**\n",
    "- Popular Programming Languages\n",
    "- Common Libraries\n",
    "- Open source ebvironments\n",
    "- Sample arthematic Expressions"
   ]
  },
  {
   "cell_type": "markdown",
   "id": "9b1ca293-5a4c-424b-8d26-bbd04b4bb86f",
   "metadata": {},
   "source": [
    "The most popular programming languages among Data Scientists are \n",
    "1. Python\n",
    "2. R\n",
    "3. Julia\n",
    "4. Scala\n",
    "5. Java\n",
    "6. C++\n"
   ]
  },
  {
   "cell_type": "markdown",
   "id": "fcb0b64e-ec8e-4f54-89a0-12b219224b4c",
   "metadata": {},
   "source": [
    "The most commonly used libraries by data scientists are as follows\n",
    "1. TensorFlow\n",
    "2. NumPy\n",
    "3. SciPy\n",
    "4. Pandas\n",
    "5. Matplotlib"
   ]
  },
  {
   "cell_type": "markdown",
   "id": "072ae1d6-0319-4c90-bd6f-f295ef651319",
   "metadata": {},
   "source": [
    "|Data Science Tools|\n",
    "|------------------|\n",
    "|Jupyter Notebook|\n",
    "|Apache Spark|\n",
    "|RStudio|\n"
   ]
  },
  {
   "cell_type": "markdown",
   "id": "cc541575-cb3c-4a2d-9e59-f7b46ab885e8",
   "metadata": {},
   "source": [
    "### Beneath are few examples of evaluating athematic expressions in Python"
   ]
  },
  {
   "cell_type": "code",
   "execution_count": 11,
   "id": "7cb77140-fbb4-437e-abff-325a6227b614",
   "metadata": {},
   "outputs": [
    {
     "name": "stdout",
     "output_type": "stream",
     "text": [
      "The athematic operation below is a simple multiplication and later addition of integers.\n"
     ]
    },
    {
     "data": {
      "text/plain": [
       "17"
      ]
     },
     "execution_count": 11,
     "metadata": {},
     "output_type": "execute_result"
    }
   ],
   "source": [
    "print(\"The athematic operation below is a simple multiplication and later addition of integers.\")\n",
    "(3*4)+5"
   ]
  },
  {
   "cell_type": "code",
   "execution_count": 12,
   "id": "c912d6ca-63df-4dd9-8a0f-eb6246d3097e",
   "metadata": {},
   "outputs": [
    {
     "name": "stdout",
     "output_type": "stream",
     "text": [
      "This operation will convert 200 minutes to hours by dividing by 60\n"
     ]
    },
    {
     "data": {
      "text/plain": [
       "3.3333333333333335"
      ]
     },
     "execution_count": 12,
     "metadata": {},
     "output_type": "execute_result"
    }
   ],
   "source": [
    "print(\"This operation will convert 200 minutes to hours by dividing by 60\")\n",
    "200/60"
   ]
  },
  {
   "cell_type": "markdown",
   "id": "689543d7-021c-4b52-983d-44412fa3f396",
   "metadata": {},
   "source": [
    "## Author\n",
    "Rohit Mallavarapu"
   ]
  },
  {
   "cell_type": "code",
   "execution_count": null,
   "id": "a0f473b8-5f30-4b33-9f13-09c2c53d971c",
   "metadata": {},
   "outputs": [],
   "source": []
  }
 ],
 "metadata": {
  "kernelspec": {
   "display_name": "Python 3 (ipykernel)",
   "language": "python",
   "name": "python3"
  },
  "language_info": {
   "codemirror_mode": {
    "name": "ipython",
    "version": 3
   },
   "file_extension": ".py",
   "mimetype": "text/x-python",
   "name": "python",
   "nbconvert_exporter": "python",
   "pygments_lexer": "ipython3",
   "version": "3.10.9"
  }
 },
 "nbformat": 4,
 "nbformat_minor": 5
}
